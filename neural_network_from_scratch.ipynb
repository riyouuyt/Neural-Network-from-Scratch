{
  "metadata": {
    "kernelspec": {
      "language": "python",
      "display_name": "Python 3",
      "name": "python3"
    },
    "language_info": {
      "name": "python",
      "version": "3.10.10",
      "mimetype": "text/x-python",
      "codemirror_mode": {
        "name": "ipython",
        "version": 3
      },
      "pygments_lexer": "ipython3",
      "nbconvert_exporter": "python",
      "file_extension": ".py"
    },
    "colab": {
      "provenance": []
    }
  },
  "nbformat_minor": 0,
  "nbformat": 4,
  "cells": [
    {
      "cell_type": "code",
      "source": [
        "# This Python 3 environment comes with many helpful analytics libraries installed\n",
        "# It is defined by the kaggle/python Docker image: https://github.com/kaggle/docker-python\n",
        "# For example, here's several helpful packages to load\n",
        "\n",
        "import numpy as np # linear algebra\n",
        "import pandas as pd # data processing, CSV file I/O (e.g. pd.read_csv)\n",
        "import matplotlib.pyplot as plt\n",
        "\n",
        "# Input data files are available in the read-only \"../input/\" directory\n",
        "# For example, running this (by clicking run or pressing Shift+Enter) will list all files under the input directory\n",
        "\n",
        "import os\n",
        "for dirname, _, filenames in os.walk('/kaggle/input'):\n",
        "    for filename in filenames:\n",
        "        print(os.path.join(dirname, filename))\n",
        "\n",
        "# You can write up to 20GB to the current directory (/kaggle/working/) that gets preserved as output when you create a version using \"Save & Run All\"\n",
        "# You can also write temporary files to /kaggle/temp/, but they won't be saved outside of the current session"
      ],
      "metadata": {
        "_uuid": "8f2839f25d086af736a60e9eeb907d3b93b6e0e5",
        "_cell_guid": "b1076dfc-b9ad-4769-8c92-a6c4dae69d19",
        "execution": {
          "iopub.status.busy": "2023-06-14T17:14:36.306764Z",
          "iopub.execute_input": "2023-06-14T17:14:36.307977Z",
          "iopub.status.idle": "2023-06-14T17:14:36.341077Z",
          "shell.execute_reply.started": "2023-06-14T17:14:36.307920Z",
          "shell.execute_reply": "2023-06-14T17:14:36.340067Z"
        },
        "trusted": true,
        "id": "PgURfTjh7_5t",
        "outputId": "e7165d55-6f54-41a9-84e6-6f1a4a8c4bed"
      },
      "execution_count": null,
      "outputs": [
        {
          "name": "stdout",
          "text": "/kaggle/input/digit-recognizer/sample_submission.csv\n/kaggle/input/digit-recognizer/train.csv\n/kaggle/input/digit-recognizer/test.csv\n",
          "output_type": "stream"
        }
      ]
    },
    {
      "cell_type": "markdown",
      "source": [
        "#Data Preparation"
      ],
      "metadata": {
        "id": "Smn6KSLd7_5-"
      }
    },
    {
      "cell_type": "code",
      "source": [
        "# Load the MNIST dataset\n",
        "mnist = pd.read_csv('/kaggle/input/digit-recognizer/train.csv')\n",
        "\n",
        "# Convert the dataset into a numpy array\n",
        "mnist = np.array(mnist)\n",
        "\n",
        "# Shuffle the dataset\n",
        "np.random.shuffle(mnist)\n",
        "\n",
        "# Total number of images in the dataset\n",
        "total_images = len(mnist)\n",
        "\n",
        "# Split the dataset into training and testing sets (80%/20%)\n",
        "train_mnist, test_mnist = mnist[:int(total_images * 0.8)].T, mnist[int(total_images * 0.8):].T\n",
        "\n",
        "# Split the data into images and labels\n",
        "train_images, train_labels = train_mnist[1:] / 255, train_mnist[0]\n",
        "test_images, test_labels = test_mnist[1:] / 255, test_mnist[0]\n",
        "\n",
        "# Get the number of features (pixels) and images in the training set\n",
        "n_features, n_images = train_images.shape\n",
        "\n",
        "# Number of classes (digits)\n",
        "n_classes = m = 10"
      ],
      "metadata": {
        "execution": {
          "iopub.status.busy": "2023-06-14T17:15:34.517918Z",
          "iopub.execute_input": "2023-06-14T17:15:34.518754Z",
          "iopub.status.idle": "2023-06-14T17:15:36.571945Z",
          "shell.execute_reply.started": "2023-06-14T17:15:34.518705Z",
          "shell.execute_reply": "2023-06-14T17:15:36.571326Z"
        },
        "trusted": true,
        "id": "RIVDyNE67_6E"
      },
      "execution_count": null,
      "outputs": []
    },
    {
      "cell_type": "markdown",
      "source": [
        "#Modelling the Neural Network"
      ],
      "metadata": {
        "id": "2moyMeZz7_6G"
      }
    },
    {
      "cell_type": "code",
      "source": [
        "import numpy as np\n",
        "\n",
        "# Function to initialize W1, W2, b1, b2\n",
        "def initialize_parameters(n_classes, n_features):\n",
        "    W1 = np.random.randn(n_classes, n_features) * 0.01\n",
        "    b1 = np.zeros((n_classes, 1))\n",
        "    W2 = np.random.randn(n_classes, n_classes) * 0.01\n",
        "    b2 = np.zeros((n_classes, 1))\n",
        "    return W1, b1, W2, b2\n",
        "\n",
        "\n",
        "# Forward propagation function\n",
        "def forward(X, W1, b1, W2, b2):\n",
        "    Z1 = np.dot(W1, X) + b1\n",
        "    A1 = np.maximum(0, Z1)  # ReLU activation\n",
        "    Z2 = np.dot(W2, A1) + b2\n",
        "    A2 = np.exp(Z2) / np.sum(np.exp(Z2), axis=0)  # Softmax activation\n",
        "    return A1, A2\n",
        "\n",
        "\n",
        "# One-hot encoding function\n",
        "def one_hot(y, n_classes=10):\n",
        "    one_hot = np.zeros((n_classes, y.shape[0]))\n",
        "    for i in range(y.shape[0]):\n",
        "        one_hot[y[i], i] = 1\n",
        "    return one_hot\n",
        "\n",
        "\n",
        "# Backward propagation function\n",
        "def backward(X, Y, A1, A2, W1, W2):\n",
        "    m = X.shape[1]\n",
        "    dZ2 = A2 - one_hot(Y)\n",
        "    dW2 = np.dot(dZ2, A1.T) / m\n",
        "    db2 = np.sum(dZ2, axis=1, keepdims=True) / m\n",
        "    dA1 = np.dot(W2.T, dZ2)\n",
        "    dZ1 = np.multiply(dA1, np.int64(A1 > 0))  # ReLU derivative\n",
        "    dW1 = np.dot(dZ1, X.T) / m\n",
        "    db1 = np.sum(dZ1, axis=1, keepdims=True) / m\n",
        "    return dW1, db1, dW2, db2\n"
      ],
      "metadata": {
        "execution": {
          "iopub.status.busy": "2023-06-14T17:16:01.641688Z",
          "iopub.execute_input": "2023-06-14T17:16:01.642041Z",
          "iopub.status.idle": "2023-06-14T17:16:01.651819Z",
          "shell.execute_reply.started": "2023-06-14T17:16:01.642014Z",
          "shell.execute_reply": "2023-06-14T17:16:01.651027Z"
        },
        "trusted": true,
        "id": "goCnOHmB7_6H"
      },
      "execution_count": null,
      "outputs": []
    },
    {
      "cell_type": "markdown",
      "source": [
        "#More Updated Functions"
      ],
      "metadata": {
        "id": "IqW4rV-L8cED"
      }
    },
    {
      "cell_type": "code",
      "source": [
        "# Update parameters function\n",
        "def update_parameters(W1, b1, W2, b2, dW1, db1, dW2, db2, learning_rate):\n",
        "    W1 -= learning_rate * dW1\n",
        "    b1 -= learning_rate * db1\n",
        "    W2 -= learning_rate * dW2\n",
        "    b2 -= learning_rate * db2\n",
        "    return W1, b1, W2, b2\n",
        "\n",
        "\n",
        "# Get prediction function\n",
        "def get_prediction(X, W1, b1, W2, b2):\n",
        "    A1, A2 = forward(X, W1, b1, W2, b2)\n",
        "    return np.argmax(A2, axis=0)\n",
        "\n",
        "\n",
        "# Get accuracy function\n",
        "def get_accuracy(X, Y, W1, b1, W2, b2):\n",
        "    pred = get_prediction(X, W1, b1, W2, b2)\n",
        "    accuracy = np.mean(pred == Y)\n",
        "    return accuracy\n",
        "\n",
        "\n",
        "# Train function (gradient descent)\n",
        "def train(X, Y, n_iterations=500, learning_rate=0.1):\n",
        "    W1, b1, W2, b2 = initialize_parameters(n_classes, n_features)\n",
        "    for i in range(n_iterations):\n",
        "        A1, A2 = forward(X, W1, b1, W2, b2)\n",
        "        dW1, db1, dW2, db2 = backward(X, Y, A1, A2, W1, W2)\n",
        "        W1, b1, W2, b2 = update_parameters(W1, b1, W2, b2, dW1, db1, dW2, db2, learning_rate)\n",
        "        if i % 10 == 0:\n",
        "            accuracy = get_accuracy(X, Y, W1, b1, W2, b2)\n",
        "            print(\"Iteration:\", i)\n",
        "            print(\"Accuracy:\", accuracy)\n",
        "    return W1, b1, W2, b2\n"
      ],
      "metadata": {
        "execution": {
          "iopub.status.busy": "2023-06-14T17:16:35.913478Z",
          "iopub.execute_input": "2023-06-14T17:16:35.913808Z",
          "iopub.status.idle": "2023-06-14T17:16:35.923653Z",
          "shell.execute_reply.started": "2023-06-14T17:16:35.913784Z",
          "shell.execute_reply": "2023-06-14T17:16:35.922336Z"
        },
        "trusted": true,
        "id": "xhz0MBgF7_6K"
      },
      "execution_count": null,
      "outputs": []
    },
    {
      "cell_type": "markdown",
      "source": [
        "# Train Data"
      ],
      "metadata": {
        "id": "3bLuJIco8gnm"
      }
    },
    {
      "cell_type": "code",
      "source": [
        "W1, b1, W2, b2 = train(train_images, train_labels, n_iterations=1500, learning_rate=0.2)"
      ],
      "metadata": {
        "execution": {
          "iopub.status.busy": "2023-06-14T17:18:27.789812Z",
          "iopub.execute_input": "2023-06-14T17:18:27.790188Z",
          "iopub.status.idle": "2023-06-14T17:20:13.091217Z",
          "shell.execute_reply.started": "2023-06-14T17:18:27.790159Z",
          "shell.execute_reply": "2023-06-14T17:20:13.090481Z"
        },
        "trusted": true,
        "id": "zwqIfNsL7_6M",
        "outputId": "6b25de16-2c9c-47bc-8fa5-aa7297c96ad3"
      },
      "execution_count": null,
      "outputs": [
        {
          "name": "stdout",
          "text": "Iteration: 0\nAccuracy: 0.11479166666666667\nIteration: 10\nAccuracy: 0.1262797619047619\nIteration: 20\nAccuracy: 0.2949404761904762\nIteration: 30\nAccuracy: 0.46148809523809525\nIteration: 40\nAccuracy: 0.4949702380952381\nIteration: 50\nAccuracy: 0.5633035714285715\nIteration: 60\nAccuracy: 0.6885119047619047\nIteration: 70\nAccuracy: 0.750297619047619\nIteration: 80\nAccuracy: 0.7803571428571429\nIteration: 90\nAccuracy: 0.8000892857142857\nIteration: 100\nAccuracy: 0.815297619047619\nIteration: 110\nAccuracy: 0.8274107142857143\nIteration: 120\nAccuracy: 0.8391666666666666\nIteration: 130\nAccuracy: 0.849077380952381\nIteration: 140\nAccuracy: 0.8574702380952381\nIteration: 150\nAccuracy: 0.8637202380952381\nIteration: 160\nAccuracy: 0.8691071428571429\nIteration: 170\nAccuracy: 0.8738690476190476\nIteration: 180\nAccuracy: 0.8780059523809524\nIteration: 190\nAccuracy: 0.8815773809523809\nIteration: 200\nAccuracy: 0.8847916666666666\nIteration: 210\nAccuracy: 0.8866666666666667\nIteration: 220\nAccuracy: 0.8892261904761904\nIteration: 230\nAccuracy: 0.8913392857142857\nIteration: 240\nAccuracy: 0.8932440476190476\nIteration: 250\nAccuracy: 0.8947619047619048\nIteration: 260\nAccuracy: 0.896547619047619\nIteration: 270\nAccuracy: 0.8978273809523809\nIteration: 280\nAccuracy: 0.8994642857142857\nIteration: 290\nAccuracy: 0.9006845238095238\nIteration: 300\nAccuracy: 0.9019047619047619\nIteration: 310\nAccuracy: 0.9028869047619048\nIteration: 320\nAccuracy: 0.9038392857142857\nIteration: 330\nAccuracy: 0.9046130952380952\nIteration: 340\nAccuracy: 0.9050892857142857\nIteration: 350\nAccuracy: 0.9058035714285714\nIteration: 360\nAccuracy: 0.9067559523809524\nIteration: 370\nAccuracy: 0.9072321428571428\nIteration: 380\nAccuracy: 0.9080059523809524\nIteration: 390\nAccuracy: 0.9090178571428571\nIteration: 400\nAccuracy: 0.9094940476190476\nIteration: 410\nAccuracy: 0.9099702380952381\nIteration: 420\nAccuracy: 0.9105952380952381\nIteration: 430\nAccuracy: 0.9111904761904762\nIteration: 440\nAccuracy: 0.9116964285714285\nIteration: 450\nAccuracy: 0.9121428571428571\nIteration: 460\nAccuracy: 0.9126488095238096\nIteration: 470\nAccuracy: 0.9132440476190476\nIteration: 480\nAccuracy: 0.91375\nIteration: 490\nAccuracy: 0.914375\nIteration: 500\nAccuracy: 0.9145535714285714\nIteration: 510\nAccuracy: 0.915\nIteration: 520\nAccuracy: 0.9153571428571429\nIteration: 530\nAccuracy: 0.9161011904761904\nIteration: 540\nAccuracy: 0.9162797619047619\nIteration: 550\nAccuracy: 0.9166071428571428\nIteration: 560\nAccuracy: 0.9171130952380953\nIteration: 570\nAccuracy: 0.9174404761904762\nIteration: 580\nAccuracy: 0.9179464285714286\nIteration: 590\nAccuracy: 0.9183333333333333\nIteration: 600\nAccuracy: 0.9186607142857143\nIteration: 610\nAccuracy: 0.9189583333333333\nIteration: 620\nAccuracy: 0.9192261904761905\nIteration: 630\nAccuracy: 0.919702380952381\nIteration: 640\nAccuracy: 0.9200892857142857\nIteration: 650\nAccuracy: 0.9204166666666667\nIteration: 660\nAccuracy: 0.9206845238095238\nIteration: 670\nAccuracy: 0.9208630952380953\nIteration: 680\nAccuracy: 0.920952380952381\nIteration: 690\nAccuracy: 0.9212202380952381\nIteration: 700\nAccuracy: 0.9216071428571428\nIteration: 710\nAccuracy: 0.9217857142857143\nIteration: 720\nAccuracy: 0.921875\nIteration: 730\nAccuracy: 0.9219940476190476\nIteration: 740\nAccuracy: 0.9222916666666666\nIteration: 750\nAccuracy: 0.9226488095238096\nIteration: 760\nAccuracy: 0.9229761904761905\nIteration: 770\nAccuracy: 0.9232440476190477\nIteration: 780\nAccuracy: 0.9235714285714286\nIteration: 790\nAccuracy: 0.92375\nIteration: 800\nAccuracy: 0.924047619047619\nIteration: 810\nAccuracy: 0.9241369047619048\nIteration: 820\nAccuracy: 0.9244940476190476\nIteration: 830\nAccuracy: 0.9246428571428571\nIteration: 840\nAccuracy: 0.9247321428571429\nIteration: 850\nAccuracy: 0.9248511904761905\nIteration: 860\nAccuracy: 0.925\nIteration: 870\nAccuracy: 0.9252380952380952\nIteration: 880\nAccuracy: 0.9253571428571429\nIteration: 890\nAccuracy: 0.9255059523809523\nIteration: 900\nAccuracy: 0.9255059523809523\nIteration: 910\nAccuracy: 0.9258333333333333\nIteration: 920\nAccuracy: 0.9259226190476191\nIteration: 930\nAccuracy: 0.9260119047619048\nIteration: 940\nAccuracy: 0.9258630952380953\nIteration: 950\nAccuracy: 0.9261607142857143\nIteration: 960\nAccuracy: 0.9261607142857143\nIteration: 970\nAccuracy: 0.9263392857142857\nIteration: 980\nAccuracy: 0.9264285714285714\nIteration: 990\nAccuracy: 0.9268154761904762\nIteration: 1000\nAccuracy: 0.9269345238095238\nIteration: 1010\nAccuracy: 0.9270535714285715\nIteration: 1020\nAccuracy: 0.927202380952381\nIteration: 1030\nAccuracy: 0.9273511904761905\nIteration: 1040\nAccuracy: 0.9275\nIteration: 1050\nAccuracy: 0.9276190476190476\nIteration: 1060\nAccuracy: 0.927797619047619\nIteration: 1070\nAccuracy: 0.9279464285714286\nIteration: 1080\nAccuracy: 0.9278571428571428\nIteration: 1090\nAccuracy: 0.9279166666666666\nIteration: 1100\nAccuracy: 0.9279761904761905\nIteration: 1110\nAccuracy: 0.9279761904761905\nIteration: 1120\nAccuracy: 0.9280357142857143\nIteration: 1130\nAccuracy: 0.9282440476190477\nIteration: 1140\nAccuracy: 0.9285416666666667\nIteration: 1150\nAccuracy: 0.9286011904761905\nIteration: 1160\nAccuracy: 0.9288095238095239\nIteration: 1170\nAccuracy: 0.9289880952380952\nIteration: 1180\nAccuracy: 0.9293452380952381\nIteration: 1190\nAccuracy: 0.9293154761904762\nIteration: 1200\nAccuracy: 0.929404761904762\nIteration: 1210\nAccuracy: 0.9295833333333333\nIteration: 1220\nAccuracy: 0.9297619047619048\nIteration: 1230\nAccuracy: 0.9299107142857143\nIteration: 1240\nAccuracy: 0.929970238095238\nIteration: 1250\nAccuracy: 0.9301190476190476\nIteration: 1260\nAccuracy: 0.9302678571428571\nIteration: 1270\nAccuracy: 0.930327380952381\nIteration: 1280\nAccuracy: 0.9305952380952381\nIteration: 1290\nAccuracy: 0.9308333333333333\nIteration: 1300\nAccuracy: 0.9311904761904762\nIteration: 1310\nAccuracy: 0.9313095238095238\nIteration: 1320\nAccuracy: 0.931577380952381\nIteration: 1330\nAccuracy: 0.9316071428571429\nIteration: 1340\nAccuracy: 0.9317261904761904\nIteration: 1350\nAccuracy: 0.9319940476190476\nIteration: 1360\nAccuracy: 0.9319940476190476\nIteration: 1370\nAccuracy: 0.9321130952380953\nIteration: 1380\nAccuracy: 0.9321130952380953\nIteration: 1390\nAccuracy: 0.932172619047619\nIteration: 1400\nAccuracy: 0.932172619047619\nIteration: 1410\nAccuracy: 0.932172619047619\nIteration: 1420\nAccuracy: 0.9322321428571428\nIteration: 1430\nAccuracy: 0.9323511904761905\nIteration: 1440\nAccuracy: 0.9325595238095238\nIteration: 1450\nAccuracy: 0.9325297619047619\nIteration: 1460\nAccuracy: 0.9326785714285715\nIteration: 1470\nAccuracy: 0.9329166666666666\nIteration: 1480\nAccuracy: 0.9329464285714286\nIteration: 1490\nAccuracy: 0.933125\n",
          "output_type": "stream"
        }
      ]
    },
    {
      "cell_type": "markdown",
      "source": [
        "#Display The Images"
      ],
      "metadata": {
        "id": "pfn2NwqM8tyt"
      }
    },
    {
      "cell_type": "code",
      "source": [
        "pred = get_prediction(test_images, W1, b1, W2, b2)\n",
        "acc = get_accuracy(test_images, test_labels, W1, b1, W2, b2)\n",
        "\n",
        "print(\"Accuracy on the test set: {:.2%}\".format(acc))\n",
        "\n",
        "if acc < 0.8:\n",
        "    print(\"The model's performance is poor. It needs improvement.\")\n",
        "elif acc < 0.9:\n",
        "    print(\"The model's performance is moderate. It shows decent generalization.\")\n",
        "elif acc < 0.95:\n",
        "    print(\"The model's performance is good. It generalizes well.\")\n",
        "else:\n",
        "    print(\"The model's performance is excellent. It achieves high accuracy.\")\n"
      ],
      "metadata": {
        "execution": {
          "iopub.status.busy": "2023-06-14T17:20:55.346404Z",
          "iopub.execute_input": "2023-06-14T17:20:55.346729Z",
          "iopub.status.idle": "2023-06-14T17:20:55.375474Z",
          "shell.execute_reply.started": "2023-06-14T17:20:55.346702Z",
          "shell.execute_reply": "2023-06-14T17:20:55.374634Z"
        },
        "trusted": true,
        "id": "EReZ3e3z7_6R",
        "outputId": "4d983942-53a9-4b6e-b66d-86ab11c2f35a"
      },
      "execution_count": null,
      "outputs": [
        {
          "name": "stdout",
          "text": "Accuracy on the test set: 92.68%\nThe model's performance is good. It generalizes well.\n",
          "output_type": "stream"
        }
      ]
    },
    {
      "cell_type": "code",
      "source": [
        "fig, ax = plt.subplots(1, 5, figsize=(15, 4))\n",
        "\n",
        "for i in range(5):\n",
        "    r = np.random.randint(0, len(test_images))\n",
        "    ax[i].imshow(test_images[:, r].reshape(28, 28), cmap='gray')\n",
        "    ax[i].set_title(\"Predicted: {}\".format(pred[r]))\n",
        "    ax[i].axis('off')\n",
        "\n",
        "plt.tight_layout()\n",
        "plt.show()"
      ],
      "metadata": {
        "execution": {
          "iopub.status.busy": "2023-06-14T17:22:13.715202Z",
          "iopub.execute_input": "2023-06-14T17:22:13.715555Z",
          "iopub.status.idle": "2023-06-14T17:22:14.312575Z",
          "shell.execute_reply.started": "2023-06-14T17:22:13.715530Z",
          "shell.execute_reply": "2023-06-14T17:22:14.311660Z"
        },
        "trusted": true,
        "id": "66nxfiMd7_6U",
        "outputId": "5ca01d3c-ae6e-43ea-d982-95648b4bacb6"
      },
      "execution_count": null,
      "outputs": [
        {
          "output_type": "display_data",
          "data": {
            "text/plain": "<Figure size 1500x400 with 5 Axes>",
            "image/png": "[encoded data removed]"
          },
          "metadata": {}
        }
      ]
    }
  ]
}